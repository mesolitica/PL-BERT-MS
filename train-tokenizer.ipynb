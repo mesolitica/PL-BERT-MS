{
 "cells": [
  {
   "cell_type": "code",
   "execution_count": 1,
   "id": "6b53ca74",
   "metadata": {},
   "outputs": [],
   "source": [
    "from datasets import load_dataset\n",
    "dataset = load_dataset(\"wikimedia/wikipedia\", \"20231101.ms\")['train'] # you can use other version of this dataset"
   ]
  },
  {
   "cell_type": "code",
   "execution_count": 2,
   "id": "879243f8",
   "metadata": {},
   "outputs": [
    {
     "name": "stderr",
     "output_type": "stream",
     "text": [
      "`openai-whisper` is not available, native whisper processor is not available, will use huggingface processor instead.\n",
      "`pyaudio` is not available, `malaya_speech.streaming.pyaudio` is not able to use.\n",
      "/home/husein/.local/lib/python3.10/site-packages/malaya/tokenizer.py:214: FutureWarning: Possible nested set at position 3397\n",
      "  self.tok = re.compile(r'({})'.format('|'.join(pipeline)))\n",
      "/home/husein/.local/lib/python3.10/site-packages/malaya/tokenizer.py:214: FutureWarning: Possible nested set at position 3927\n",
      "  self.tok = re.compile(r'({})'.format('|'.join(pipeline)))\n",
      "/home/husein/.local/lib/python3.10/site-packages/malaya/normalizer/rules.py:204: FutureWarning: Possible nested set at position 42\n",
      "  k.lower(): re.compile(_expressions[k]) for k, v in _expressions.items()\n",
      "/home/husein/.local/lib/python3.10/site-packages/malaya/normalizer/rules.py:204: FutureWarning: Possible nested set at position 3\n",
      "  k.lower(): re.compile(_expressions[k]) for k, v in _expressions.items()\n"
     ]
    },
    {
     "data": {
      "text/plain": [
       "'hello'"
      ]
     },
     "execution_count": 2,
     "metadata": {},
     "output_type": "execute_result"
    }
   ],
   "source": [
    "from text_normalize import normalize_text\n",
    "\n",
    "normalize_text('hello')"
   ]
  },
  {
   "cell_type": "code",
   "execution_count": 3,
   "id": "93fe6b80",
   "metadata": {},
   "outputs": [],
   "source": [
    "root_directory = \"./wiki_clean\""
   ]
  },
  {
   "cell_type": "code",
   "execution_count": 45,
   "id": "a7820804",
   "metadata": {},
   "outputs": [],
   "source": [
    "import os\n",
    "num_shards = 1000\n",
    "\n",
    "def process_shard(i):\n",
    "    directory = root_directory + \"/shard_\" + str(i)\n",
    "    if os.path.exists(directory):\n",
    "        print(\"Shard %d already exists!\" % i)\n",
    "        return\n",
    "    print('Processing shard %d ...' % i)\n",
    "    shard = dataset.shard(num_shards=num_shards, index=i)\n",
    "    processed_dataset = shard.map(lambda t: {'normalize': normalize_text(t['text'])}, remove_columns=['text'])\n",
    "    if not os.path.exists(directory):\n",
    "        os.makedirs(directory)\n",
    "    processed_dataset.save_to_disk(directory)"
   ]
  },
  {
   "cell_type": "code",
   "execution_count": 46,
   "id": "24a2f40f",
   "metadata": {},
   "outputs": [],
   "source": [
    "from pebble import ProcessPool\n",
    "from concurrent.futures import TimeoutError"
   ]
  },
  {
   "cell_type": "code",
   "execution_count": 48,
   "id": "db475b8f",
   "metadata": {},
   "outputs": [],
   "source": [
    "max_workers = 20\n",
    "\n",
    "with ProcessPool(max_workers=max_workers) as pool:\n",
    "    pool.map(process_shard, range(num_shards))"
   ]
  },
  {
   "cell_type": "code",
   "execution_count": 52,
   "id": "7d9e91b7",
   "metadata": {},
   "outputs": [],
   "source": [
    "from datasets import load_from_disk, concatenate_datasets\n",
    "\n",
    "output = [dI for dI in os.listdir(root_directory) if os.path.isdir(os.path.join(root_directory,dI))]\n",
    "datasets = []\n",
    "for o in output:\n",
    "    directory = root_directory + \"/\" + o\n",
    "    try:\n",
    "        shard = load_from_disk(directory)\n",
    "        datasets.append(shard)\n",
    "    except:\n",
    "        continue"
   ]
  },
  {
   "cell_type": "code",
   "execution_count": 53,
   "id": "ce744024",
   "metadata": {},
   "outputs": [
    {
     "data": {
      "application/vnd.jupyter.widget-view+json": {
       "model_id": "df50688b91bb453b9c22419f53d65b08",
       "version_major": 2,
       "version_minor": 0
      },
      "text/plain": [
       "Saving the dataset (0/1 shards):   0%|          | 0/366783 [00:00<?, ? examples/s]"
      ]
     },
     "metadata": {},
     "output_type": "display_data"
    }
   ],
   "source": [
    "dataset = concatenate_datasets(datasets)\n",
    "dataset.save_to_disk('for-tokenizer')"
   ]
  },
  {
   "cell_type": "code",
   "execution_count": 6,
   "id": "5da74a8f",
   "metadata": {},
   "outputs": [
    {
     "data": {
      "text/plain": [
       "{'id': '696002',\n",
       " 'url': 'https://ms.wikipedia.org/wiki/Kvelia',\n",
       " 'title': 'Kvelia',\n",
       " 'normalize': 'Kvelia merupakan sebuah kampung yang terletak di dalam negara Norway . Lihat juga Senarai kampung di Norway Rujukan Senarai kampung di Norway'}"
      ]
     },
     "execution_count": 6,
     "metadata": {},
     "output_type": "execute_result"
    }
   ],
   "source": [
    "dataset[-1]"
   ]
  },
  {
   "cell_type": "code",
   "execution_count": 7,
   "id": "97924bb3",
   "metadata": {},
   "outputs": [],
   "source": [
    "from tokenizers import Tokenizer\n",
    "from tokenizers.models import WordLevel\n",
    "from tokenizers import normalizers\n",
    "from tokenizers.normalizers import Lowercase, NFD, StripAccents\n",
    "from tokenizers.pre_tokenizers import Whitespace\n",
    "from tokenizers.processors import TemplateProcessing\n",
    "from tokenizers.trainers import WordPieceTrainer\n",
    "from tokenizers.trainers import WordLevelTrainer\n",
    "from tqdm import tqdm\n",
    "\n",
    "tokenizer = Tokenizer(WordLevel(unk_token=\"[UNK]\"))\n",
    "tokenizer.normalizer = normalizers.Sequence([NFD(), Lowercase(), StripAccents()])\n",
    "tokenizer.pre_tokenizer = Whitespace()\n",
    "\n",
    "trainer = WordLevelTrainer(vocab_size = 300000, show_progress=True, special_tokens=[\"[UNK]\", \"[CLS]\", \"[SEP]\", \"[PAD]\", \"[MASK]\"])"
   ]
  },
  {
   "cell_type": "code",
   "execution_count": 8,
   "id": "2152f7fa",
   "metadata": {},
   "outputs": [
    {
     "name": "stderr",
     "output_type": "stream",
     "text": [
      "367it [00:10, 33.52it/s]\n"
     ]
    }
   ],
   "source": [
    "def batch_iterator():\n",
    "    batch_size = 1000\n",
    "    for batch in tqdm(dataset.iter(batch_size=batch_size)):\n",
    "        yield batch[\"normalize\"]\n",
    "\n",
    "tokenizer.train_from_iterator(batch_iterator(), length=len(dataset), trainer = trainer)"
   ]
  },
  {
   "cell_type": "code",
   "execution_count": 9,
   "id": "3c0cda24",
   "metadata": {},
   "outputs": [],
   "source": [
    "tokenizer.save(\"tokenizer.json\")"
   ]
  },
  {
   "cell_type": "code",
   "execution_count": 10,
   "id": "2c942397",
   "metadata": {},
   "outputs": [],
   "source": [
    "from transformers import PreTrainedTokenizerFast\n",
    "tokenizer = PreTrainedTokenizerFast(tokenizer_file=\"tokenizer.json\")\n",
    "tokenizer.bos_token=\"[CLS]\"\n",
    "tokenizer.eos_token=\"[SEP]\"\n",
    "tokenizer.sep_token=\"[SEP]\"\n",
    "tokenizer.cls_token=\"[CLS]\"\n",
    "tokenizer.unk_token=\"[UNK]\"\n",
    "tokenizer.pad_token=\"[PAD]\"\n",
    "tokenizer.mask_token=\"[MASK]\"        \n",
    "        \n",
    "tokenizer._bos_token=\"[CLS]\"\n",
    "tokenizer._eos_token=\"[SEP]\"\n",
    "tokenizer._sep_token=\"[SEP]\"\n",
    "tokenizer._cls_token=\"[CLS]\"\n",
    "tokenizer._unk_token=\"[UNK]\"\n",
    "tokenizer._pad_token=\"[PAD]\"\n",
    "tokenizer._mask_token=\"[MASK]\"  "
   ]
  },
  {
   "cell_type": "code",
   "execution_count": 11,
   "id": "eb61181d",
   "metadata": {
    "scrolled": true
   },
   "outputs": [
    {
     "data": {
      "application/vnd.jupyter.widget-view+json": {
       "model_id": "f7761ebdc1c246fc9f09cf2d3f211e55",
       "version_major": 2,
       "version_minor": 0
      },
      "text/plain": [
       "tokenizer.json:   0%|          | 0.00/7.51M [00:00<?, ?B/s]"
      ]
     },
     "metadata": {},
     "output_type": "display_data"
    },
    {
     "data": {
      "text/plain": [
       "CommitInfo(commit_url='https://huggingface.co/mesolitica/PL-BERT-MS/commit/20f421ae5644e730387b49d37cab90140988b2dd', commit_message='Upload tokenizer', commit_description='', oid='20f421ae5644e730387b49d37cab90140988b2dd', pr_url=None, repo_url=RepoUrl('https://huggingface.co/mesolitica/PL-BERT-MS', endpoint='https://huggingface.co', repo_type='model', repo_id='mesolitica/PL-BERT-MS'), pr_revision=None, pr_num=None)"
      ]
     },
     "execution_count": 11,
     "metadata": {},
     "output_type": "execute_result"
    }
   ],
   "source": [
    "tokenizer.push_to_hub('mesolitica/PL-BERT-MS')"
   ]
  },
  {
   "cell_type": "code",
   "execution_count": 12,
   "id": "0cc8253a",
   "metadata": {},
   "outputs": [
    {
     "data": {
      "text/plain": [
       "'Pelabuhan Kerteh dibina di Kerteh , Terengganu bagi menampung keperluan penghantaran petroleum dan gas asli yang digali di luar pantai Terengganu dan yang ditelah diproses di kawasan daratan Kerteh . Pelabuhan di Malaysia'"
      ]
     },
     "execution_count": 12,
     "metadata": {},
     "output_type": "execute_result"
    }
   ],
   "source": [
    "dataset[0]['normalize']"
   ]
  },
  {
   "cell_type": "code",
   "execution_count": 13,
   "id": "26e13c95",
   "metadata": {},
   "outputs": [
    {
     "data": {
      "text/plain": [
       "300000"
      ]
     },
     "execution_count": 13,
     "metadata": {},
     "output_type": "execute_result"
    }
   ],
   "source": [
    "len(tokenizer)"
   ]
  },
  {
   "cell_type": "code",
   "execution_count": 14,
   "id": "56bbbe19",
   "metadata": {},
   "outputs": [
    {
     "data": {
      "text/plain": [
       "['hello', '.']"
      ]
     },
     "execution_count": 14,
     "metadata": {},
     "output_type": "execute_result"
    }
   ],
   "source": [
    "tokenizer.tokenize('hello.')"
   ]
  },
  {
   "cell_type": "code",
   "execution_count": 15,
   "id": "4bca7d21",
   "metadata": {},
   "outputs": [
    {
     "data": {
      "text/plain": [
       "PreTrainedTokenizerFast(name_or_path='', vocab_size=300000, model_max_length=1000000000000000019884624838656, is_fast=True, padding_side='right', truncation_side='right', special_tokens={'bos_token': '[CLS]', 'eos_token': '[SEP]', 'unk_token': '[UNK]', 'sep_token': '[SEP]', 'pad_token': '[PAD]', 'cls_token': '[CLS]', 'mask_token': '[MASK]'}, clean_up_tokenization_spaces=False, added_tokens_decoder={\n",
       "\t0: AddedToken(\"[UNK]\", rstrip=False, lstrip=False, single_word=False, normalized=False, special=True),\n",
       "\t1: AddedToken(\"[CLS]\", rstrip=False, lstrip=False, single_word=False, normalized=False, special=True),\n",
       "\t2: AddedToken(\"[SEP]\", rstrip=False, lstrip=False, single_word=False, normalized=False, special=True),\n",
       "\t3: AddedToken(\"[PAD]\", rstrip=False, lstrip=False, single_word=False, normalized=False, special=True),\n",
       "\t4: AddedToken(\"[MASK]\", rstrip=False, lstrip=False, single_word=False, normalized=False, special=True),\n",
       "}\n",
       ")"
      ]
     },
     "execution_count": 15,
     "metadata": {},
     "output_type": "execute_result"
    }
   ],
   "source": [
    "tokenizer"
   ]
  }
 ],
 "metadata": {
  "kernelspec": {
   "display_name": "python3.10",
   "language": "python",
   "name": "python3.10"
  },
  "language_info": {
   "codemirror_mode": {
    "name": "ipython",
    "version": 3
   },
   "file_extension": ".py",
   "mimetype": "text/x-python",
   "name": "python",
   "nbconvert_exporter": "python",
   "pygments_lexer": "ipython3",
   "version": "3.10.15"
  }
 },
 "nbformat": 4,
 "nbformat_minor": 5
}
